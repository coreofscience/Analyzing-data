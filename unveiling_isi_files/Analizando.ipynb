{
 "cells": [
  {
   "cell_type": "markdown",
   "metadata": {},
   "source": [
    "#### Importando librerias."
   ]
  },
  {
   "cell_type": "code",
   "execution_count": 1,
   "metadata": {},
   "outputs": [],
   "source": [
    "from wostools import CollectionLazy\n",
    "import igraph\n",
    "import pandas as pd\n",
    "import statistics as st"
   ]
  },
  {
   "cell_type": "markdown",
   "metadata": {},
   "source": [
    "#### Importando datos (consulta)."
   ]
  },
  {
   "cell_type": "code",
   "execution_count": 3,
   "metadata": {},
   "outputs": [],
   "source": [
    "collection = CollectionLazy.from_filenames(\"records.txt\")\n",
    "citation_pairs = collection.citation_pairs()\n",
    "citation_pairs = list(citation_pairs)"
   ]
  },
  {
   "cell_type": "markdown",
   "metadata": {},
   "source": [
    "### Organizando grafo."
   ]
  },
  {
   "cell_type": "code",
   "execution_count": 4,
   "metadata": {},
   "outputs": [],
   "source": [
    "vertices = set()\n",
    "for a, b in citation_pairs:\n",
    "    vertices.add(a)\n",
    "    vertices.add(b)\n",
    "\n",
    "vertices = list(vertices)"
   ]
  },
  {
   "cell_type": "code",
   "execution_count": 5,
   "metadata": {},
   "outputs": [],
   "source": [
    "graph = igraph.Graph(directed=True)\n",
    "graph.add_vertices(vertices)\n",
    "graph.add_edges(citation_pairs)"
   ]
  },
  {
   "cell_type": "code",
   "execution_count": 6,
   "metadata": {},
   "outputs": [],
   "source": [
    "graph = graph.components(mode=\"weak\").giant()\n",
    "graph = graph.simplify()"
   ]
  },
  {
   "cell_type": "code",
   "execution_count": 7,
   "metadata": {
    "scrolled": true
   },
   "outputs": [],
   "source": [
    "selected = graph.vs.select(\n",
    "    lambda node: not (node.indegree() == 1 and node.outdegree() == 0)\n",
    ")\n",
    "graph = graph.subgraph(selected)"
   ]
  },
  {
   "cell_type": "raw",
   "metadata": {},
   "source": [
    "max_cluster = max(graph.biconnected_components().sizes())\n",
    "for i in graph.biconnected_components():\n",
    "    if len(i) == max_cluster:\n",
    "        cluster_1 = graph.subgraph(i)"
   ]
  },
  {
   "cell_type": "code",
   "execution_count": 8,
   "metadata": {},
   "outputs": [],
   "source": [
    "graph_undirected = graph.as_undirected()\n",
    "max_blondel = max(\n",
    "    graph_undirected.community_multilevel(weights=None, return_levels=False).sizes()\n",
    ")\n",
    "for cluster in graph_undirected.community_multilevel(\n",
    "    weights=None, return_levels=False\n",
    "):\n",
    "    if len(cluster) == max_blondel:\n",
    "        cluster_blondel = graph_undirected.subgraph(cluster)"
   ]
  },
  {
   "cell_type": "markdown",
   "metadata": {},
   "source": [
    "#### Atributos."
   ]
  },
  {
   "cell_type": "code",
   "execution_count": 9,
   "metadata": {},
   "outputs": [],
   "source": [
    "features = pd.DataFrame(index=[\"records.txt\"])\n",
    "\n",
    "for i in graph,cluster_blondel:\n",
    "    if i == graph:\n",
    "        j = 'Complet'\n",
    "    else:\n",
    "        j = 'Blondel_C'\n",
    "    nodes = i.vcount()\n",
    "    edges = i.ecount()\n",
    "    features['Nodes '+ j] = nodes\n",
    "    features['Edges ' + j] = edges\n",
    "\n",
    "    max_degree = i.maxdegree()\n",
    "    degree = i.degree()\n",
    "    betweenness = i.betweenness()\n",
    "    closeness = i.closeness()\n",
    "\n",
    "    diameter = i.diameter()\n",
    "    density = i.density()\n",
    "    clusters_biconnected = len(i.biconnected_components())\n",
    "    features['Diameter '+ j] = diameter\n",
    "    features['Density '+ j] = density\n",
    "    features['Cluster biconected '+ j] = clusters_biconnected\n",
    "\n",
    "    mean_degree = st.mean(degree)\n",
    "    sd_degree = st.stdev(degree)\n",
    "    var_degree = st.variance(degree)\n",
    "    mean_indegree = st.mean(i.indegree())\n",
    "    mean_outdegree = st.mean(i.outdegree())\n",
    "    features['Max degree '+ j] = max_degree\n",
    "    features['Sd degree '+ j] = sd_degree\n",
    "    features['Var degree '+ j] = var_degree\n",
    "    features['Mean indegree '+ j] = mean_indegree\n",
    "    features['Mean outdegree '+ j] = mean_outdegree\n",
    "\n",
    "    mean_betweenness = st.mean(betweenness)\n",
    "    sd_betw = st.stdev(betweenness)\n",
    "    var_betw = st.variance(betweenness)\n",
    "    features['Mean betweenness '+ j] = mean_betweenness\n",
    "    features['Sd betweenness '+ j] = sd_betw\n",
    "    features['var betweenness '+ j] = var_betw\n",
    "\n",
    "    mean_closeness = st.mean(closeness)\n",
    "    sd_closeness = st.stdev(closeness)\n",
    "    var_closeness = st.variance(closeness)\n",
    "    features['Mean closeness '+ j] = mean_closeness\n",
    "    features['Sd closeness '+ j] = sd_closeness\n",
    "    features['Var closeness '+ j] = var_closeness"
   ]
  },
  {
   "cell_type": "code",
   "execution_count": 10,
   "metadata": {},
   "outputs": [
    {
     "data": {
      "text/html": [
       "<div>\n",
       "<style scoped>\n",
       "    .dataframe tbody tr th:only-of-type {\n",
       "        vertical-align: middle;\n",
       "    }\n",
       "\n",
       "    .dataframe tbody tr th {\n",
       "        vertical-align: top;\n",
       "    }\n",
       "\n",
       "    .dataframe thead th {\n",
       "        text-align: right;\n",
       "    }\n",
       "</style>\n",
       "<table border=\"1\" class=\"dataframe\">\n",
       "  <thead>\n",
       "    <tr style=\"text-align: right;\">\n",
       "      <th></th>\n",
       "      <th>Nodes Complet</th>\n",
       "      <th>Edges Complet</th>\n",
       "      <th>Diameter Complet</th>\n",
       "      <th>Density Complet</th>\n",
       "      <th>Cluster biconected Complet</th>\n",
       "      <th>Max degree Complet</th>\n",
       "      <th>Sd degree Complet</th>\n",
       "      <th>Var degree Complet</th>\n",
       "      <th>Mean indegree Complet</th>\n",
       "      <th>Mean outdegree Complet</th>\n",
       "      <th>...</th>\n",
       "      <th>Sd degree Blondel_C</th>\n",
       "      <th>Var degree Blondel_C</th>\n",
       "      <th>Mean indegree Blondel_C</th>\n",
       "      <th>Mean outdegree Blondel_C</th>\n",
       "      <th>Mean betweenness Blondel_C</th>\n",
       "      <th>Sd betweenness Blondel_C</th>\n",
       "      <th>var betweenness Blondel_C</th>\n",
       "      <th>Mean closeness Blondel_C</th>\n",
       "      <th>Sd closeness Blondel_C</th>\n",
       "      <th>Var closeness Blondel_C</th>\n",
       "    </tr>\n",
       "  </thead>\n",
       "  <tbody>\n",
       "    <tr>\n",
       "      <th>records.txt</th>\n",
       "      <td>2742</td>\n",
       "      <td>10197</td>\n",
       "      <td>6</td>\n",
       "      <td>0.001357</td>\n",
       "      <td>13</td>\n",
       "      <td>279</td>\n",
       "      <td>11.860383</td>\n",
       "      <td>140.668674</td>\n",
       "      <td>3.718818</td>\n",
       "      <td>3.718818</td>\n",
       "      <td>...</td>\n",
       "      <td>4.776501</td>\n",
       "      <td>22.814961</td>\n",
       "      <td>3.57037</td>\n",
       "      <td>3.57037</td>\n",
       "      <td>662.2</td>\n",
       "      <td>1450.327091</td>\n",
       "      <td>2.103449e+06</td>\n",
       "      <td>0.238376</td>\n",
       "      <td>0.033113</td>\n",
       "      <td>0.001096</td>\n",
       "    </tr>\n",
       "  </tbody>\n",
       "</table>\n",
       "<p>1 rows × 32 columns</p>\n",
       "</div>"
      ],
      "text/plain": [
       "             Nodes Complet  Edges Complet  Diameter Complet  Density Complet  \\\n",
       "records.txt           2742          10197                 6         0.001357   \n",
       "\n",
       "             Cluster biconected Complet  Max degree Complet  \\\n",
       "records.txt                          13                 279   \n",
       "\n",
       "             Sd degree Complet  Var degree Complet  Mean indegree Complet  \\\n",
       "records.txt          11.860383          140.668674               3.718818   \n",
       "\n",
       "             Mean outdegree Complet  ...  Sd degree Blondel_C  \\\n",
       "records.txt                3.718818  ...             4.776501   \n",
       "\n",
       "             Var degree Blondel_C  Mean indegree Blondel_C  \\\n",
       "records.txt             22.814961                  3.57037   \n",
       "\n",
       "             Mean outdegree Blondel_C  Mean betweenness Blondel_C  \\\n",
       "records.txt                   3.57037                       662.2   \n",
       "\n",
       "             Sd betweenness Blondel_C  var betweenness Blondel_C  \\\n",
       "records.txt               1450.327091               2.103449e+06   \n",
       "\n",
       "             Mean closeness Blondel_C  Sd closeness Blondel_C  \\\n",
       "records.txt                  0.238376                0.033113   \n",
       "\n",
       "             Var closeness Blondel_C  \n",
       "records.txt                 0.001096  \n",
       "\n",
       "[1 rows x 32 columns]"
      ]
     },
     "execution_count": 10,
     "metadata": {},
     "output_type": "execute_result"
    }
   ],
   "source": [
    "features"
   ]
  }
 ],
 "metadata": {
  "kernelspec": {
   "display_name": "Python 3",
   "language": "python",
   "name": "python3"
  },
  "language_info": {
   "codemirror_mode": {
    "name": "ipython",
    "version": 3
   },
   "file_extension": ".py",
   "mimetype": "text/x-python",
   "name": "python",
   "nbconvert_exporter": "python",
   "pygments_lexer": "ipython3",
   "version": "3.7.4"
  }
 },
 "nbformat": 4,
 "nbformat_minor": 4
}
