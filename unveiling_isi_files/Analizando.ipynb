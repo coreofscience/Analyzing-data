{
 "cells": [
  {
   "cell_type": "code",
   "execution_count": 1,
   "metadata": {},
   "outputs": [],
   "source": [
    "from wostools import CollectionLazy\n",
    "import igraph"
   ]
  },
  {
   "cell_type": "code",
   "execution_count": 2,
   "metadata": {},
   "outputs": [],
   "source": [
    "collection = CollectionLazy.from_filenames(\"records.txt\")\n",
    "citation_pairs = collection.citation_pairs()\n",
    "citation_pairs = list(citation_pairs)"
   ]
  },
  {
   "cell_type": "code",
   "execution_count": 3,
   "metadata": {},
   "outputs": [
    {
     "name": "stdout",
     "output_type": "stream",
     "text": [
      "18605\n"
     ]
    }
   ],
   "source": [
    "print(len(citation_pairs))"
   ]
  },
  {
   "cell_type": "code",
   "execution_count": 4,
   "metadata": {},
   "outputs": [],
   "source": [
    "vertices = set()\n",
    "for a, b in citation_pairs:\n",
    "    vertices.add(a)\n",
    "    vertices.add(b)\n",
    "\n",
    "vertices = list(vertices)"
   ]
  },
  {
   "cell_type": "code",
   "execution_count": 5,
   "metadata": {},
   "outputs": [],
   "source": [
    "graph = igraph.Graph(directed=True)\n",
    "graph.add_vertices(vertices)\n",
    "graph.add_edges(citation_pairs)"
   ]
  },
  {
   "cell_type": "code",
   "execution_count": 6,
   "metadata": {},
   "outputs": [],
   "source": [
    "graph = graph.components(mode=\"weak\").giant()\n",
    "graph = graph.simplify()"
   ]
  },
  {
   "cell_type": "code",
   "execution_count": 7,
   "metadata": {},
   "outputs": [
    {
     "name": "stdout",
     "output_type": "stream",
     "text": [
      "IGRAPH DN-- 2742 10197 -- \n",
      "+ attr: name (v)\n"
     ]
    }
   ],
   "source": [
    "selected = graph.vs.select(\n",
    "    lambda node: not (node.indegree() == 1 and node.outdegree() == 0)\n",
    ")\n",
    "graph = graph.subgraph(selected)\n",
    "print(graph.summary())"
   ]
  },
  {
   "cell_type": "code",
   "execution_count": null,
   "metadata": {},
   "outputs": [],
   "source": []
  }
 ],
 "metadata": {
  "kernelspec": {
   "display_name": "Python 3",
   "language": "python",
   "name": "python3"
  },
  "language_info": {
   "codemirror_mode": {
    "name": "ipython",
    "version": 3
   },
   "file_extension": ".py",
   "mimetype": "text/x-python",
   "name": "python",
   "nbconvert_exporter": "python",
   "pygments_lexer": "ipython3",
   "version": "3.7.4"
  }
 },
 "nbformat": 4,
 "nbformat_minor": 4
}
