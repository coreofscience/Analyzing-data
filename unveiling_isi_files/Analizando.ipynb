{
 "cells": [
  {
   "cell_type": "markdown",
   "metadata": {},
   "source": [
    "#### Importando librerias."
   ]
  },
  {
   "cell_type": "code",
   "execution_count": 1,
   "metadata": {},
   "outputs": [],
   "source": [
    "from wostools import CollectionLazy\n",
    "import igraph\n",
    "import pandas as pd\n",
    "import statistics as st"
   ]
  },
  {
   "cell_type": "markdown",
   "metadata": {},
   "source": [
    "#### Importando datos (consulta)."
   ]
  },
  {
   "cell_type": "code",
   "execution_count": 3,
   "metadata": {},
   "outputs": [],
   "source": [
    "collection = CollectionLazy.from_filenames(\"records.txt\")\n",
    "citation_pairs = collection.citation_pairs()\n",
    "citation_pairs = list(citation_pairs)"
   ]
  },
  {
   "cell_type": "markdown",
   "metadata": {},
   "source": [
    "### Organizando grafo."
   ]
  },
  {
   "cell_type": "code",
   "execution_count": 4,
   "metadata": {},
   "outputs": [],
   "source": [
    "vertices = set()\n",
    "for a, b in citation_pairs:\n",
    "    vertices.add(a)\n",
    "    vertices.add(b)\n",
    "\n",
    "vertices = list(vertices)"
   ]
  },
  {
   "cell_type": "code",
   "execution_count": 5,
   "metadata": {},
   "outputs": [],
   "source": [
    "graph = igraph.Graph(directed=True)\n",
    "graph.add_vertices(vertices)\n",
    "graph.add_edges(citation_pairs)"
   ]
  },
  {
   "cell_type": "code",
   "execution_count": 6,
   "metadata": {},
   "outputs": [],
   "source": [
    "graph = graph.components(mode=\"weak\").giant()\n",
    "graph = graph.simplify()"
   ]
  },
  {
   "cell_type": "code",
   "execution_count": 7,
   "metadata": {
    "scrolled": true
   },
   "outputs": [],
   "source": [
    "selected = graph.vs.select(\n",
    "    lambda node: not (node.indegree() == 1 and node.outdegree() == 0)\n",
    ")\n",
    "graph = graph.subgraph(selected)"
   ]
  },
  {
   "cell_type": "code",
   "execution_count": 8,
   "metadata": {},
   "outputs": [],
   "source": [
    "max_cluster = max(graph.biconnected_components().sizes())\n",
    "for i in graph.biconnected_components():\n",
    "    if len(i) == max_cluster:\n",
    "        cluster_1 = graph.subgraph(i)"
   ]
  },
  {
   "cell_type": "markdown",
   "metadata": {},
   "source": [
    "#### Atributos."
   ]
  },
  {
   "cell_type": "code",
   "execution_count": 72,
   "metadata": {},
   "outputs": [],
   "source": [
    "features = pd.DataFrame(columns=['features'])\n",
    "\n",
    "for i in graph,cluster_1:\n",
    "    if i == graph:\n",
    "        j = 'Complet'\n",
    "    else:\n",
    "        j = 'Cluster'\n",
    "    nodes = i.vcount()\n",
    "    edges = i.ecount()\n",
    "    features.loc['Nodes '+ j] = nodes\n",
    "    features.loc['Edges ' + j] = edges\n",
    "\n",
    "    max_degree = i.maxdegree()\n",
    "    degree = i.degree()\n",
    "    betweenness = i.betweenness()\n",
    "    closeness = i.closeness()\n",
    "\n",
    "    diameter = i.diameter()\n",
    "    density = i.density()\n",
    "    clusters_biconnected = len(i.biconnected_components())\n",
    "    features.loc['Diameter '+ j] = diameter\n",
    "    features.loc['Density '+ j] = density\n",
    "    features.loc['Cluster biconected '+ j] = clusters_biconnected\n",
    "\n",
    "    mean_degree = st.mean(degree)\n",
    "    sd_degree = st.stdev(degree)\n",
    "    var_degree = st.variance(degree)\n",
    "    mean_indegree = st.mean(i.indegree())\n",
    "    mean_outdegree = st.mean(i.outdegree())\n",
    "    features.loc['Max degree '+ j] = max_degree\n",
    "    features.loc['Sd degree '+ j] = sd_degree\n",
    "    features.loc['Var degree '+ j] = var_degree\n",
    "    features.loc['Mean indegree '+ j] = mean_indegree\n",
    "    features.loc['Mean outdegree '+ j] = mean_outdegree\n",
    "\n",
    "    mean_betweenness = st.mean(betweenness)\n",
    "    sd_betw = st.stdev(betweenness)\n",
    "    var_betw = st.variance(betweenness)\n",
    "    features.loc['Mean betweenness '+ j] = mean_betweenness\n",
    "    features.loc['Sd betweenness '+ j] = sd_betw\n",
    "    features.loc['var betweenness '+ j] = var_betw\n",
    "\n",
    "    mean_closeness = st.mean(closeness)\n",
    "    sd_closeness = st.stdev(closeness)\n",
    "    var_closeness = st.variance(closeness)\n",
    "    features.loc['Mean closeness '+ j] = mean_closeness\n",
    "    features.loc['Sd closeness '+ j] = sd_closeness\n",
    "    features.loc['Var closeness '+ j] = var_closeness"
   ]
  },
  {
   "cell_type": "code",
   "execution_count": 73,
   "metadata": {},
   "outputs": [
    {
     "data": {
      "text/html": [
       "<div>\n",
       "<style scoped>\n",
       "    .dataframe tbody tr th:only-of-type {\n",
       "        vertical-align: middle;\n",
       "    }\n",
       "\n",
       "    .dataframe tbody tr th {\n",
       "        vertical-align: top;\n",
       "    }\n",
       "\n",
       "    .dataframe thead th {\n",
       "        text-align: right;\n",
       "    }\n",
       "</style>\n",
       "<table border=\"1\" class=\"dataframe\">\n",
       "  <thead>\n",
       "    <tr style=\"text-align: right;\">\n",
       "      <th></th>\n",
       "      <th>features</th>\n",
       "    </tr>\n",
       "  </thead>\n",
       "  <tbody>\n",
       "    <tr>\n",
       "      <th>Nodes Complet</th>\n",
       "      <td>2742</td>\n",
       "    </tr>\n",
       "    <tr>\n",
       "      <th>Edges Complet</th>\n",
       "      <td>10197</td>\n",
       "    </tr>\n",
       "    <tr>\n",
       "      <th>Diameter Complet</th>\n",
       "      <td>6</td>\n",
       "    </tr>\n",
       "    <tr>\n",
       "      <th>Density Complet</th>\n",
       "      <td>0.00135674</td>\n",
       "    </tr>\n",
       "    <tr>\n",
       "      <th>Cluster biconected Complet</th>\n",
       "      <td>13</td>\n",
       "    </tr>\n",
       "    <tr>\n",
       "      <th>Max degree Complet</th>\n",
       "      <td>279</td>\n",
       "    </tr>\n",
       "    <tr>\n",
       "      <th>Sd degree Complet</th>\n",
       "      <td>11.8604</td>\n",
       "    </tr>\n",
       "    <tr>\n",
       "      <th>Var degree Complet</th>\n",
       "      <td>140.669</td>\n",
       "    </tr>\n",
       "    <tr>\n",
       "      <th>Mean indegree Complet</th>\n",
       "      <td>3.71882</td>\n",
       "    </tr>\n",
       "    <tr>\n",
       "      <th>Mean outdegree Complet</th>\n",
       "      <td>3.71882</td>\n",
       "    </tr>\n",
       "    <tr>\n",
       "      <th>Mean betweenness Complet</th>\n",
       "      <td>21.4737</td>\n",
       "    </tr>\n",
       "    <tr>\n",
       "      <th>Sd betweenness Complet</th>\n",
       "      <td>187.738</td>\n",
       "    </tr>\n",
       "    <tr>\n",
       "      <th>var betweenness Complet</th>\n",
       "      <td>35245.4</td>\n",
       "    </tr>\n",
       "    <tr>\n",
       "      <th>Mean closeness Complet</th>\n",
       "      <td>0.263226</td>\n",
       "    </tr>\n",
       "    <tr>\n",
       "      <th>Sd closeness Complet</th>\n",
       "      <td>0.0270164</td>\n",
       "    </tr>\n",
       "    <tr>\n",
       "      <th>Var closeness Complet</th>\n",
       "      <td>0.000729885</td>\n",
       "    </tr>\n",
       "    <tr>\n",
       "      <th>Nodes Cluster</th>\n",
       "      <td>2730</td>\n",
       "    </tr>\n",
       "    <tr>\n",
       "      <th>Edges Cluster</th>\n",
       "      <td>10185</td>\n",
       "    </tr>\n",
       "    <tr>\n",
       "      <th>Diameter Cluster</th>\n",
       "      <td>6</td>\n",
       "    </tr>\n",
       "    <tr>\n",
       "      <th>Density Cluster</th>\n",
       "      <td>0.00136708</td>\n",
       "    </tr>\n",
       "    <tr>\n",
       "      <th>Cluster biconected Cluster</th>\n",
       "      <td>1</td>\n",
       "    </tr>\n",
       "    <tr>\n",
       "      <th>Max degree Cluster</th>\n",
       "      <td>279</td>\n",
       "    </tr>\n",
       "    <tr>\n",
       "      <th>Sd degree Cluster</th>\n",
       "      <td>11.8767</td>\n",
       "    </tr>\n",
       "    <tr>\n",
       "      <th>Var degree Cluster</th>\n",
       "      <td>141.057</td>\n",
       "    </tr>\n",
       "    <tr>\n",
       "      <th>Mean indegree Cluster</th>\n",
       "      <td>3.73077</td>\n",
       "    </tr>\n",
       "    <tr>\n",
       "      <th>Mean outdegree Cluster</th>\n",
       "      <td>3.73077</td>\n",
       "    </tr>\n",
       "    <tr>\n",
       "      <th>Mean betweenness Cluster</th>\n",
       "      <td>21.5462</td>\n",
       "    </tr>\n",
       "    <tr>\n",
       "      <th>Sd betweenness Cluster</th>\n",
       "      <td>188.144</td>\n",
       "    </tr>\n",
       "    <tr>\n",
       "      <th>var betweenness Cluster</th>\n",
       "      <td>35398.2</td>\n",
       "    </tr>\n",
       "    <tr>\n",
       "      <th>Mean closeness Cluster</th>\n",
       "      <td>0.263878</td>\n",
       "    </tr>\n",
       "    <tr>\n",
       "      <th>Sd closeness Cluster</th>\n",
       "      <td>0.0267838</td>\n",
       "    </tr>\n",
       "    <tr>\n",
       "      <th>Var closeness Cluster</th>\n",
       "      <td>0.000717371</td>\n",
       "    </tr>\n",
       "  </tbody>\n",
       "</table>\n",
       "</div>"
      ],
      "text/plain": [
       "                               features\n",
       "Nodes Complet                      2742\n",
       "Edges Complet                     10197\n",
       "Diameter Complet                      6\n",
       "Density Complet              0.00135674\n",
       "Cluster biconected Complet           13\n",
       "Max degree Complet                  279\n",
       "Sd degree Complet               11.8604\n",
       "Var degree Complet              140.669\n",
       "Mean indegree Complet           3.71882\n",
       "Mean outdegree Complet          3.71882\n",
       "Mean betweenness Complet        21.4737\n",
       "Sd betweenness Complet          187.738\n",
       "var betweenness Complet         35245.4\n",
       "Mean closeness Complet         0.263226\n",
       "Sd closeness Complet          0.0270164\n",
       "Var closeness Complet       0.000729885\n",
       "Nodes Cluster                      2730\n",
       "Edges Cluster                     10185\n",
       "Diameter Cluster                      6\n",
       "Density Cluster              0.00136708\n",
       "Cluster biconected Cluster            1\n",
       "Max degree Cluster                  279\n",
       "Sd degree Cluster               11.8767\n",
       "Var degree Cluster              141.057\n",
       "Mean indegree Cluster           3.73077\n",
       "Mean outdegree Cluster          3.73077\n",
       "Mean betweenness Cluster        21.5462\n",
       "Sd betweenness Cluster          188.144\n",
       "var betweenness Cluster         35398.2\n",
       "Mean closeness Cluster         0.263878\n",
       "Sd closeness Cluster          0.0267838\n",
       "Var closeness Cluster       0.000717371"
      ]
     },
     "execution_count": 73,
     "metadata": {},
     "output_type": "execute_result"
    }
   ],
   "source": [
    "features"
   ]
  },
  {
   "cell_type": "raw",
   "metadata": {},
   "source": [
    "all_paths = list() #Caminos mas largos de cada nodo.\n",
    "for i in graph.vs.indices:\n",
    "    equis = graph.get_all_shortest_paths(i, graph.vs.indices, mode = 'all')\n",
    "    count = list()\n",
    "    for j in equis:\n",
    "        count.append(len(j))\n",
    "    maxim = max(count)\n",
    "    for k in equis:\n",
    "        if len(k) == maxim:\n",
    "            all_paths.append(k)\n",
    "\n",
    "count_paths = list()\n",
    "for i in all_paths:\n",
    "    count_paths.append(len(i))"
   ]
  },
  {
   "cell_type": "raw",
   "metadata": {},
   "source": [
    "paths = len(all_paths)\n",
    "mean_paths = st.mean(count_paths)\n",
    "sd_paths = st.stdev(count_paths)\n",
    "var_paths = st.variance(count_paths)\n",
    "features.loc['Paths'] = paths\n",
    "features.loc['Mean paths'] = mean_paths\n",
    "features.loc['Sd paths'] = sd_paths\n",
    "features.loc['Var paths'] = var_paths"
   ]
  },
  {
   "cell_type": "raw",
   "metadata": {
    "scrolled": true
   },
   "source": [
    "Raiz = graph.vs.select(\n",
    "    lambda node: node.outdegree() == 0 and node.indegree() > 1\n",
    ")\n",
    "Hojas = graph.vs.select(\n",
    "    lambda node: node.indegree() == 0 and node.outdegree() > 1\n",
    ")"
   ]
  }
 ],
 "metadata": {
  "kernelspec": {
   "display_name": "Python 3",
   "language": "python",
   "name": "python3"
  },
  "language_info": {
   "codemirror_mode": {
    "name": "ipython",
    "version": 3
   },
   "file_extension": ".py",
   "mimetype": "text/x-python",
   "name": "python",
   "nbconvert_exporter": "python",
   "pygments_lexer": "ipython3",
   "version": "3.7.4"
  }
 },
 "nbformat": 4,
 "nbformat_minor": 4
}
